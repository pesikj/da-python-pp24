{
 "cells": [
  {
   "cell_type": "markdown",
   "metadata": {},
   "source": [
    "# Slicing\n",
    "\n",
    "Zápis slicingu je následující\n",
    "\n",
    "![](assets/Slicing-1.drawio.svg)\n",
    "\n",
    "Máme seznam `tym`"
   ]
  },
  {
   "cell_type": "code",
   "execution_count": 2,
   "metadata": {},
   "outputs": [],
   "source": [
    "tym = [\"Kuba\", \"Terez\", \"Soustruh\", \"Jirka\", \"Míša\", \"Pavel\", \"Petra\"]"
   ]
  },
  {
   "cell_type": "code",
   "execution_count": 4,
   "metadata": {},
   "outputs": [
    {
     "data": {
      "text/plain": [
       "['Kuba', 'Terez', 'Soustruh', 'Jirka']"
      ]
     },
     "execution_count": 4,
     "metadata": {},
     "output_type": "execute_result"
    }
   ],
   "source": [
    "tym[0:4]"
   ]
  },
  {
   "cell_type": "markdown",
   "metadata": {},
   "source": [
    "![](assets/Slicing-3.drawio.svg)"
   ]
  },
  {
   "cell_type": "code",
   "execution_count": 5,
   "metadata": {},
   "outputs": [
    {
     "data": {
      "text/plain": [
       "['Soustruh', 'Jirka', 'Míša']"
      ]
     },
     "execution_count": 5,
     "metadata": {},
     "output_type": "execute_result"
    }
   ],
   "source": [
    "tym[2:5]"
   ]
  },
  {
   "cell_type": "markdown",
   "metadata": {},
   "source": [
    "![](assets/Slicing-4.drawio.svg)"
   ]
  },
  {
   "cell_type": "markdown",
   "metadata": {},
   "source": [
    "# Použití cyklu pro dvourozměrný seznam\n",
    "\n",
    "Máme tabulku s prodejem učebnic c.hemie v několika městech České republiky.\n",
    "\n",
    "| Město    | Prodané kusy v roce 2021 | Prodané kusy v roce 2022 |\n",
    "| -------- | ----------------------------- | ---------------------------- |\n",
    "| Praha    | 4200                       | 4900                      |\n",
    "| Brno     | 2500                       | 2100                      |\n",
    "| Ostrava  | 1500                       | 1100                      |\n",
    "| Plzeň    | 1000                       | 700                       |\n",
    "| Liberec  | 700                        | 500                       |\n",
    "| Olomouc  | 400                        | 300                       |\n",
    "\n",
    "Data máme zadaná v Pythonu jako dvourozměrný seznam. Naším úkolem je zjistit, ve kterých městech prodeje učebnice poklesly.\n",
    "\n",
    "## Řešení úlohy v SQL\n",
    "\n",
    "Uvažujme, jak bychom řešili příklad v SQL. Tento příklad je založený na tom, že říkáme, jaký by měl být výsledek. Jinak řečeno, říkáme, *co chceme*. Neříkáme, jakým způsobem by měl počítač k požadovanému výsledku dojít.\n",
    "\n",
    "```sql\n",
    "SELECT mesto\n",
    "FROM prodej_knih\n",
    "WHERE rok2 < rok1;\n",
    "```\n",
    "\n",
    "## Řešení úlohy v Pythonu\n",
    "\n",
    "V Pythonu s využitím cyklu říkáme, co má počítač udělat, tj. dáváme mu posloupnost kroků, kterou má provést, aby dospěl k námi požadovanému výsledku. Instrukce, které počítači dáme, jsou následující:\n",
    "\n",
    "1. Projdi jednotlivé prvky seznamu (projdi tabulku řádek po řádku).\n",
    "1. Pro každý prvek (slovník) se podívej, jestli je hodnota s klíčem `\"prodej_2021\"` větší než hodnosta s klíček `\"prodej_2022\"`.\n",
    "1. Pokud ano, vypiš hodnotu s klíčem `\"mesto\"`.\n"
   ]
  },
  {
   "cell_type": "code",
   "execution_count": 3,
   "metadata": {},
   "outputs": [
    {
     "name": "stdout",
     "output_type": "stream",
     "text": [
      "Brno\n",
      "Ostrava\n",
      "Plzeň\n",
      "Liberec\n",
      "Olomouc\n"
     ]
    }
   ],
   "source": [
    "prodej_knih = [\n",
    "    {\"mesto\": \"Praha\", \"prodej_2021\": 4200, \"prodej_2022\": 4900},\n",
    "    {\"mesto\": \"Brno\", \"prodej_2021\": 2500, \"prodej_2022\": 2100},\n",
    "    {\"mesto\": \"Ostrava\", \"prodej_2021\": 1500, \"prodej_2022\": 1100},\n",
    "    {\"mesto\": \"Plzeň\", \"prodej_2021\": 1000, \"prodej_2022\": 700},\n",
    "    {\"mesto\": \"Liberec\", \"prodej_2021\": 700, \"prodej_2022\": 500},\n",
    "    {\"mesto\": \"Olomouc\", \"prodej_2021\": 400, \"prodej_2022\": 300}\n",
    "]\n",
    "\n",
    "for radek in prodej_knih:\n",
    "    if radek[\"prodej_2021\"] > radek[\"prodej_2022\"]:\n",
    "        print(radek[\"mesto\"])"
   ]
  },
  {
   "cell_type": "markdown",
   "metadata": {},
   "source": [
    "### První opakování cyklu\n",
    "\n",
    "Python do proměnné `radek` vloží to, co je na začátku seznamu, tj. prodeje v Praze. To, že jde o proměnnou `radek`, určíme tím, že název `radek` vložíme mezi `for` a `in`.\n",
    "\n",
    "```py\n",
    "for radek in prodej_knih:\n",
    "```\n",
    "\n",
    "![](assets/Cyklus-prubeh_1_slovnik.drawio.svg)\n",
    "\n",
    "Nyní je vyhodnocená podmínka\n",
    "\n",
    "```py\n",
    "    if radek[\"prodej_2021\"] > radek[\"prodej_2022\"]:\n",
    "```\n",
    "\n",
    "Hodnota `radek[\"prodej_2021\"]` je 4200 a hodnota `radek[\"prodej_2022\"]` je 4900. Není tedy pravda, že je hodnota `radek[\"prodej_2021\"]` větší než hodnota na pozici `radek[\"prodej_2022\"]`, proto nespouštíme kód uvnitř podmínky. V cyklu již další příkazy nejsou a pokračuje dál.\n",
    "\n",
    "\n",
    "### Druhé opakování cyklu\n",
    "\n",
    "Python do proměnné `radek` vloží další hodnotu ze seznamu, tj. prodeje v Brně. To, že jde o proměnnou `radek`, určíme tím, že název `radek` vložíme mezi `for` a `in`.\n",
    "\n",
    "```py\n",
    "for radek in prodej_knih:\n",
    "```\n",
    "\n",
    "![](assets/Cyklus-prubeh_slovnik_3.drawio.svg)\n",
    "\n",
    "Nyní je vyhodnocená podmínka\n",
    "\n",
    "```py\n",
    "    if radek[\"prodej_2021\"] > radek[\"prodej_2022\"]:\n",
    "```\n",
    "\n",
    "Hodnota `radek[\"prodej_2021\"]` je 2500 a hodnota `radek[\"prodej_2022\"]` je 2100. Je pravda, že je hodnota `radek[\"prodej_2021\"]` větší než hodnota na pozici `radek[\"prodej_2022\"]`, proto spouštíme kód uvnitř podmínky. Program vypíše na obrazovku `Brno`.\n",
    "\n",
    "\n",
    "### Třetí opakování cyklu\n",
    "\n",
    "Python do proměnné `radek` vloží další hodnotu ze seznamu, tj. prodeje v Ostravě. To, že jde o proměnnou `radek`, určíme tím, že název `radek` vložíme mezi `for` a `in`.\n",
    "\n",
    "```py\n",
    "for radek in prodej_knih:\n",
    "```\n",
    "\n",
    "![](assets/Cyklus-prubeh_slovnik_2.drawio.svg)\n",
    "\n",
    "Nyní je vyhodnocená podmínka\n",
    "\n",
    "```py\n",
    "    if radek[\"prodej_2021\"] > radek[\"prodej_2022\"]:\n",
    "```\n",
    "\n",
    "Hodnota `radek[\"prodej_2021\"]` je 1500 a hodnota `radek[\"prodej_2022\"]` je 1100. Je pravda, že je hodnota `radek[\"prodej_2021\"]` větší než hodnota na pozici `radek[\"prodej_2022\"]`, proto spouštíme kód uvnitř podmínky. Program vypíše na obrazovku `Ostrava`."
   ]
  }
 ],
 "metadata": {
  "kernelspec": {
   "display_name": "Python 3",
   "language": "python",
   "name": "python3"
  },
  "language_info": {
   "codemirror_mode": {
    "name": "ipython",
    "version": 3
   },
   "file_extension": ".py",
   "mimetype": "text/x-python",
   "name": "python",
   "nbconvert_exporter": "python",
   "pygments_lexer": "ipython3",
   "version": "3.12.1"
  }
 },
 "nbformat": 4,
 "nbformat_minor": 2
}
