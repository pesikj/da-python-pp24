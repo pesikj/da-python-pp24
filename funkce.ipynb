{
 "cells": [
  {
   "cell_type": "markdown",
   "metadata": {},
   "source": [
    "# Funkce\n",
    "\n",
    "Podíváme se na plánování dovolené. Protože vybráme na poslední chvíli, máme již k dispozici předpověď počasí. Protože si během dovolené chceme užít turistiku po městech nebo v horách, preferujeme spíše teploty do 30 stupňů.\n",
    "\n",
    "V seznamu `teploty` máme týdenní předpověď pro jednu potenciání lokalitu. Kolik dní tam můžeme čekat teplotu do 30 stupňů?"
   ]
  },
  {
   "cell_type": "code",
   "execution_count": 1,
   "metadata": {},
   "outputs": [
    {
     "name": "stdout",
     "output_type": "stream",
     "text": [
      "4\n"
     ]
    }
   ],
   "source": [
    "teploty = [22, 32, 28, 30, 21, 33, 29]\n",
    "\n",
    "pocet = 0\n",
    "for hodnota in teploty:\n",
    "    if hodnota <= 30:\n",
    "        pocet = pocet + 1\n",
    "print(pocet)"
   ]
  },
  {
   "cell_type": "markdown",
   "metadata": {},
   "source": [
    "Dále uvažujeme, že nechceme utratit příliš mnoho peněz a chceme tedy v lokalitě mít několik možností ubytování s cenou do 35 tisíc. V seznamu `ceny_ubytovani` máme ceny za několik hotelů, kde mají volné místo. Kolik hotelů vyhovuje naší cenové podmínce?"
   ]
  },
  {
   "cell_type": "code",
   "execution_count": null,
   "metadata": {},
   "outputs": [],
   "source": [
    "ceny_ubytovani = [42000, 30000, 18000, 40000, 25000, 27000]"
   ]
  },
  {
   "cell_type": "markdown",
   "metadata": {},
   "source": [
    "Když se zamyslíš nad tímto úkolem, v podstatě řešíme stejnou věc jako předtím. Chceme spočítat, kolik hodnot v seznamu je menších nebo rovno nějaké námi definované hranici. Mohli bychom kód zkopírovat a trochu upravit, ale lepší bude, pokud využijeme **funkce**. Funkce již umíme používat, nyní si ale vyzkoušíme vlastní funkci **definovat**.\n",
    "\n",
    "Pro definici funkci použijeme následující:\n",
    "\n",
    "* klíčové slovo `def`,\n",
    "* název funkce (ten si vymyslíme sami),\n",
    "* vstupy, se kterými by funkce měla pracovat (poznačujeme je jako **parametry**).\n",
    "\n",
    "Kód funkce musí být odsazený, podobně jako podmínka nebo cyklus. Aby funkce **vrátila** výsledek k dalšímu zpracování, použijeme klíčové slovo `return`."
   ]
  },
  {
   "cell_type": "code",
   "execution_count": null,
   "metadata": {},
   "outputs": [],
   "source": [
    "def pocet_hodnot_mensich_nez_hranice(seznam, hranice):\n",
    "    pocet = 0\n",
    "    for hodnota in seznam:\n",
    "        if hodnota <= hranice:\n",
    "            pocet = pocet + 1\n",
    "    return pocet"
   ]
  },
  {
   "cell_type": "markdown",
   "metadata": {},
   "source": [
    "Výsledek funkce můžeme uložit do proměnné a dál s ním pracovat, můžeme ho vypsat atd."
   ]
  },
  {
   "cell_type": "code",
   "execution_count": null,
   "metadata": {},
   "outputs": [],
   "source": [
    "# Výsledek můžeme uložit do proměnné a další s ním pracovat\n",
    "vysledek = pocet_hodnot_mensich_nez_hranice(teploty, 30)\n",
    "if vysledek > 2:\n",
    "    print(\"Je tam vedro.\")\n",
    "else:\n",
    "    print(\"Je to v pohodě.\")\n",
    "# Volání funkce můžeme vložit do sebe, jako jsme to již dělali s funkcemi, které jsou součástí Pythonu\n",
    "print(pocet_hodnot_mensich_nez_hranice(ceny_ubytovani, 28000))"
   ]
  }
 ],
 "metadata": {
  "kernelspec": {
   "display_name": "Python 3",
   "language": "python",
   "name": "python3"
  },
  "language_info": {
   "codemirror_mode": {
    "name": "ipython",
    "version": 3
   },
   "file_extension": ".py",
   "mimetype": "text/x-python",
   "name": "python",
   "nbconvert_exporter": "python",
   "pygments_lexer": "ipython3",
   "version": "3.12.1"
  }
 },
 "nbformat": 4,
 "nbformat_minor": 2
}
