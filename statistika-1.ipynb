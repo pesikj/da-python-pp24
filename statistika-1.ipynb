{
 "cells": [
  {
   "cell_type": "markdown",
   "metadata": {},
   "source": [
    "# Úvod do statistiky 1\n",
    "\n",
    "## Testování hypotéz\n",
    "\n",
    "Uvažujme příklad království, kde vládne královna Ada.\n",
    "\n",
    "<div>\n",
    "<img src=\"statistika-1-assets/ada_01.webp\" width=\"500\"/>\n",
    "</div>\n",
    "\n",
    "Jednou za ní přijde obchodník s tím, že má zázračný přípravek, který zlepšuje paměť a soustředění. Ada si není jistá, že přípravek zkustečně funguje, a tak bude chtít ověřit jeho kvalitu pomocí experimentu. Experiment pak vyhodnotí a rozhodne, jestli přípravek pomáhá.\n",
    "\n",
    "<div>\n",
    "<img src=\"statistika-1-assets/ada_02.webp\" width=\"500\"/>\n",
    "</div>\n",
    "\n",
    "U experimentu bychom měli využít jednoduché pravidlo: Nikdo ze studentů a studentek by neměl vědět, jestli dostal přípravek. To Ada vyřeší tak, že polovině dá přípravek a polovině placebo, které chutná a vypadá stejně.\n",
    "\n",
    "### Formulace statistických hypotéz\n",
    "\n",
    "Ada předpokládá, že pokud přípravek funguje, průměrný výsledek studentů a studentek, kteří ho dostanou, bude lepší, než výsledek těch, kteří ho nedostanou. Ada tedy provede test hypotézy, zda přípravek skutečně zvýší průměrný počet bodů, který studenti z testu dostanou. \n",
    "\n",
    "I Ada se v jejím království musí držet zákonů statistiky. \n",
    "\n",
    "Při testování hypotéz vždy nejprve definujeme dvě hypotézy - **nulovou** (*null hypothesis*) a **alternativní** (*alternative hypohesis*). Tyto dvě hypotézy musí být vždy **ve sporu**, tj. nemůže nastat situace, že by byly obě pravdivé. Nulová hypotéza v sobě má často znaménko *rovná se*, alternativní pak mívá znaménko *nerovná se*, *větší než* nebo *menší než*. Dále můžeme v nulové hypotéze tvrdit, že mezi dvěma sloupci v tabulce není závislost, a alternativní hypotéza bude říkat, že závislost existuje (to si ukážeme v dalších lekcích).\n",
    "\n",
    "Uvažujme tedy následující dvojici hypotéz:\n",
    "\n",
    "- Nulová hypotéza: Studenti a studentky, kteří dostanou kouzelný přípravek, mají **stejný** průměrný počet bodů jako ti, kteří přípravek nedostanou.\n",
    "- Alternativní hypotéza: Studenti a studentky, kteří dostanou kouzelný přípravek, mají **větší** průměrný počet bodů jako ti, kteří přípravek nedostanou.\n",
    "\n",
    "Výsledkem našeho testu by mělo být rozhodnutí, jestli platí alternativní hypotéza, tj. jestli skutečně přípravek pomáhá studentům v testu.\n",
    "\n",
    "### Získání dat\n",
    "\n",
    "Ada dále provede sběr dat. Vyrazí tedy do školy a v jedné třídě rozdělí studenty a studentky na dvě skupiny. Jedné dá přípravek a druhé placebo, přičemž nikdo ze studentů neví, co dostal.\n",
    "\n",
    "<div>\n",
    "<img src=\"statistika-1-assets/ada_04.webp\" width=\"500\"/>\n",
    "</div>\n",
    "\n",
    "Data máme v souboru [student_results.csv](student_results.csv). Stejně jako Ada použijeme modul `pandas`.\n",
    "\n",
    "<div>\n",
    "<img src=\"statistika-1-assets/ada_06.webp\" width=\"500\"/>\n",
    "</div>\n",
    "\n",
    "Níže je kód, pomocí kterého data načteme z tabulky csv."
   ]
  },
  {
   "cell_type": "code",
   "execution_count": 4,
   "metadata": {},
   "outputs": [
    {
     "data": {
      "text/html": [
       "<div>\n",
       "<style scoped>\n",
       "    .dataframe tbody tr th:only-of-type {\n",
       "        vertical-align: middle;\n",
       "    }\n",
       "\n",
       "    .dataframe tbody tr th {\n",
       "        vertical-align: top;\n",
       "    }\n",
       "\n",
       "    .dataframe thead th {\n",
       "        text-align: right;\n",
       "    }\n",
       "</style>\n",
       "<table border=\"1\" class=\"dataframe\">\n",
       "  <thead>\n",
       "    <tr style=\"text-align: right;\">\n",
       "      <th></th>\n",
       "      <th>Pripravek</th>\n",
       "      <th>Placebo</th>\n",
       "    </tr>\n",
       "  </thead>\n",
       "  <tbody>\n",
       "    <tr>\n",
       "      <th>0</th>\n",
       "      <td>57.483571</td>\n",
       "      <td>52.783781</td>\n",
       "    </tr>\n",
       "    <tr>\n",
       "      <th>1</th>\n",
       "      <td>54.308678</td>\n",
       "      <td>47.121893</td>\n",
       "    </tr>\n",
       "    <tr>\n",
       "      <th>2</th>\n",
       "      <td>58.238443</td>\n",
       "      <td>44.117535</td>\n",
       "    </tr>\n",
       "    <tr>\n",
       "      <th>3</th>\n",
       "      <td>62.615149</td>\n",
       "      <td>49.328401</td>\n",
       "    </tr>\n",
       "    <tr>\n",
       "      <th>4</th>\n",
       "      <td>53.829233</td>\n",
       "      <td>47.204729</td>\n",
       "    </tr>\n",
       "  </tbody>\n",
       "</table>\n",
       "</div>"
      ],
      "text/plain": [
       "   Pripravek    Placebo\n",
       "0  57.483571  52.783781\n",
       "1  54.308678  47.121893\n",
       "2  58.238443  44.117535\n",
       "3  62.615149  49.328401\n",
       "4  53.829233  47.204729"
      ]
     },
     "execution_count": 4,
     "metadata": {},
     "output_type": "execute_result"
    }
   ],
   "source": [
    "import pandas as pd\n",
    "\n",
    "data = pd.read_csv(\"student_results.csv\")\n",
    "data.head()"
   ]
  },
  {
   "cell_type": "markdown",
   "metadata": {},
   "source": [
    "Zkusme zkontrolovat průměrné výsledky."
   ]
  },
  {
   "cell_type": "code",
   "execution_count": 5,
   "metadata": {},
   "outputs": [
    {
     "data": {
      "text/plain": [
       "Pripravek    54.143507\n",
       "Placebo      50.437980\n",
       "dtype: float64"
      ]
     },
     "execution_count": 5,
     "metadata": {},
     "output_type": "execute_result"
    }
   ],
   "source": [
    "data.mean()"
   ]
  },
  {
   "cell_type": "markdown",
   "metadata": {},
   "source": [
    "Ada si tedy řekla, že přípravek musí fungovat. Pak ji ale napadla jedna zákeřná myšlenka: Co když je to náhoda? Kdybychom si rozdělil data na nějaké dvě různé skupiny, výsledky budou taky různé, protože každý ze studentů získal jiný počet bodů. Není tedy pouhou náhodou, že průměry jsou různé?\n",
    "\n",
    "<div>\n",
    "<img src=\"statistika-1-assets/ada_07.webp\" width=\"500\"/>\n",
    "</div>\n",
    "\n",
    "K tomu právě slouží testování hypotéz. Řekne nám, **s jakou pravděpodobností** je takový výsledek **náhoda**.\n",
    "\n",
    "### Test statistické hypotézy\n",
    "\n",
    "Ada dále potřebuje zvolit vhodný test pro ověření naší hypotézy. Cílem testu je ověřit, zda platí alternativní hypotéza. Na různé dvojice hypotéz ale existují různé testy a je potřeba použít vhodný test pro daný případ. Ada nejprve vyrazí do knihovny a začne studovat učebnice statistiky. Tam se dočte následující.\n",
    "\n",
    "<div>\n",
    "<img src=\"statistika-1-assets/ada_05.webp\" width=\"500\"/>\n",
    "</div>\n",
    "\n",
    "Statistických testů existuje obrovské množství a výběr toho správného závisí obecně na několika faktech:\n",
    "\n",
    "- **Počet souborů (skupin) dat**, se kterými chceme v testu pracovat. V tomto konkrétním případě chceme pracovat se **dvěma** soubory (*sample*), můžeme mít ale pouze jeden či naopak 3 a více. Soubory myslíme \"skupiny\", které v testu porovnáváme. V našem testu máme dvě skupiny - skupinu s kouzelným přípravkem a skupinu s placebem. Nejde o to, kolik dat máme pro každou ze skupin. Mohli bychom mít například milion studentů a studentek v každé skupině, pořád by to ale byly dvě skupiny.\n",
    "- **Statistický ukazatel** nebo skutečnost, kterou chceme ověřit. V našem případě půjde o průměr, ale je možné testovat i jiné skutečnosti.\n",
    "- **Předpoklady testu.** Předpoklad je nějaká podmínka, která musí být splněna, aby test dával kvalitní výsledky.\n",
    "\n",
    "Naše království je trochu modernější a učebnice už studovat nemusíme. Můžeme použít rádce, který se jmenuje ChatGPT.\n",
    "\n",
    "<div>\n",
    "<img src=\"statistika-1-assets/gpt_01.png\" />\n",
    "</div>\n",
    "\n",
    "Níže je text promptu.\n",
    "\n",
    "> Máme dvě skupiny studentů - jedna skupina dostala přípravek na zlepšení výkonu mozkových funkcí a druhá skupina dostala placebo. Máme dvě hypotézy.\n",
    ">\n",
    "> Nulová hypotéza: Studenti a studentky, kteří dostanou kouzelný přípravek, mají stejný průměrný počet bodů jako ti, kteří přípravek nedostanou.\n",
    "> Alternativní hypotéza: Studenti a studentky, kteří dostanou kouzelný přípravek, mají větší průměrný počet bodů jako ti, kteří přípravek nedostanou.\n",
    ">\n",
    "> Jaký je vhodný statistický test?\n",
    "\n",
    "Níže je příklad možné odpovědi.\n",
    "\n",
    "<div>\n",
    "<img src=\"statistika-1-assets/gpt_02.png\" />\n",
    "</div>\n",
    "\n",
    "Co tento výsledek znamená?\n",
    "\n",
    "- Máme **jednostrannou alternativní hypotézu**. Tím se odkazuje na znaménko \"méně než\" v alternativní hypotéze. Znaménko \"ukazuje na jednu stranu\", máme tedy jednostrannou alternativu. Pokud bychom tam měli znaménko nerovná se, šlo by o oboustrannou alternativu.\n",
    "- Máme použít tvz. **t-test**. To je jeden z testů, které jsou vhodné.\n",
    "- Tvrdí, že dvě **nezávislé skupiny**. Co by byla závislá skupina? Např. bychom mohli nechat studenty napsat test bez použití přípravku a poté dát všem studentům přípravek a dát jim další test. Poté bychom srovnávali výsledek každého ze studentů bez přípravku a s přípravkem. Protože bychom měli 2 hodnoty pro každého ze studentů, šlo by o závislé skupiny.\n",
    "- Mluví o **předpokladech normality a homogenity rozptylu**. Každý test má nějaké předpoklady, které by měly být splněny, aby test dával co nejlepší výsledky. O tom si ještě řekneme později. V tomto případě budeme předpokládat, že předpoklady jsou splněny.\n",
    "\n",
    "### Vyhodnocení testu\n",
    "\n",
    "Je zřejmé, že obě hypotézy nemohou být pravidivé. Při testování hypotéz můžeme dojít k následujícím závěrům:\n",
    "\n",
    "* zamítáme (*reject*) H0 (a tedy tvrdíme, že platí H1),\n",
    "* nezamítáme (*do not reject*) H0 (a tedy jsme neprokázali, že platí H1).\n",
    "\n",
    "Poněkud nepříjemnou zprávou pro vás může být informace, že výsledek našeho testu může být chybný, a to i v případě, že jsme postuovali správně. Může se totiž stát, že prostě máme smůlu na náš vzorek. Může se třeba stát, že jsme (čistě náhodou) dali přípravek studentům, kterým se test více povedl. Testování hypotéz nám řekne, jak je pravděpodobné, že lepší výsledek skupiny s přípravkem je náhoda.\n",
    "\n",
    "Při testu hypotézy volíme tzv. hladinu významnosti. Tou říkáme, jak malá musí být pravděpodobnost toho, že námi zjištěný výsledek (nebo jakýkoli výraznější rozdíl) je náhoda. Např. obvykle je volená hladina významnosti 5 %. To znamená, že pokud je pravděpodobnost toho, že zjištěný rozdíl průměrů je čistě náhoda, méně než 5 %, zamítneme nulovou hypotézu a konstatujeme, že příspěvek je účinný.\n",
    "\n",
    "#### Bonus: Chyba I. a II. druhu\n",
    "\n",
    "Při testování se můžeme dopustit 2 chyb, které jsou popsány v tabulce níže.\n",
    "\n",
    "|   | Průměr bodů se neliší | Přípravek zvyšuje průměr |\n",
    "|---|---|---|\n",
    "| **Neprokázali jsme rozdíl** | Správný výsledek | Chyba II. druhu (*Type II Error*) |\n",
    "| **Tvrdíme, že jsme prokáhali účinnost přípravku**  | Chyba I. druhu (*Type I Error*) | Správný výsledek |\n",
    "\n",
    "Rozepišme si nyní tyto chyby obecně\n",
    "\n",
    "|   | Nulová hypotéze platí | Nulová hypotéza neplatí |\n",
    "|---|---|---|\n",
    "| **Nezamítáme nulovou hypotézu** | Správný výsledek | Chyba II. druhu |\n",
    "| **Zamítáme nulovou hypotézu**  | Chyba I. druhu | Správný výsledek |\n",
    "\n",
    "Při testování hypotéz si zpravidla vybíráme pravděpodobnost, s jakou se chceme dopustit chyby I. druhu. Pravděpodobnost chyby I. druhu označujeme jako **hladinu významnosti** (*significance level*).\n",
    "\n",
    "Při formulování statistických hypotéz (a ve statistice obecně) obvykle rozlišujeme mezi dvěma pojmy:\n",
    "\n",
    "- Průměr = to, co jsme **spočítali z našich dat**.\n",
    "- Střední hodnota = hodnota, která se vztahuje k celé populaci (například ke všem ženám na světě). **Střední hodnotu neznáme, ale odhadujeme ji pomocí průměru.**\n",
    "\n",
    "### Výpočet\n",
    "\n",
    "Nyní se Ada musí vrátit k počítači a pustit se do výpočtu.\n",
    "\n",
    "<div>\n",
    "<img src=\"statistika-1-assets/ada_09.webp\" width=\"500\"/>\n",
    "</div>\n",
    "\n",
    "My zkusíme ChatGPT požádat, aby nám pomohl a připravil kód pro výpočet.\n",
    "\n",
    "<div>\n",
    "<img src=\"statistika-1-assets/gpt_03.png\" />\n",
    "</div>\n",
    "\n",
    "Výsledek zkusíme spustit."
   ]
  },
  {
   "cell_type": "markdown",
   "metadata": {},
   "source": [
    "ChatGPT nám radí použít funkci `ttest_ind` z modulu `scipy`. Ta provede test hypotézy. Jako parametry vkládáme sloupce z tabulky `data`. Na pořadí sloupců záleží, protože přidáváme parametr `alternative=greater`. To znamená, že alternativní hypotéza tvrdí, že průměr první skupiny je větší než průměr druhé skupiny.\n",
    "\n",
    "Funkce nám vrátí dvě hodnoty - `statistics` a `p_value`. Nás bude zajímat pouze `p_value`. Tato hodnota nám říká, jak velká je pravděpodobnost, že zjištěný výsledek může být náhoda.\n",
    "\n",
    "Platí následující **obecná** pravidla.\n",
    "\n",
    "- Pokud je **p-hodnota menší než hladina významnosti, zamítáme nulovou hypotézu** (tj. platí alternativní hypotéza).\n",
    "- Pokud je **p-hodnota větší než hladina významnosti, nezamítáme nulovou hypotézu.**\n",
    "\n",
    "Pokud si zvolíme hladinu významnosti jako 5 %, což je nejčastější volba, můžeme zapsat pravidlo konkrétněji.\n",
    "\n",
    "- Pokud je **p-hodnota < 0.05, zamítáme nulovou hypotézu** (tj. platí alternativní hypotéza).\n",
    "- Pokud je **p-hodnota > 0.05, nezamítáme nulovou hypotézu.**"
   ]
  },
  {
   "cell_type": "code",
   "execution_count": null,
   "metadata": {},
   "outputs": [],
   "source": [
    "from scipy import stats\n",
    "\n",
    "statistic, p_value = stats.ttest_ind(data['Pripravek'], data['Placebo'], alternative='greater')\n",
    "\n",
    "print(f\"P-hodnota: {p_value}\")"
   ]
  },
  {
   "cell_type": "markdown",
   "metadata": {},
   "source": [
    "V našem případě tedy platí, že p-hodnota je přibližně 1 %. Pravděpodobnost, že je tento výsledek náhoda, je tedy velmi malá a my jsme dospěli k tomu, že přípravek funguje.\n",
    "\n",
    "\n",
    "Ada se rozhodla, že zkusí výsledky prezentovat pomocí grafů. My jí s tím pomůžeme. Ale nejprve nás čeká cvučení.\n",
    "\n",
    "<div>\n",
    "<img src=\"statistika-1-assets/ada_08.webp\" width=\"500\" />\n",
    "</div>"
   ]
  },
  {
   "cell_type": "markdown",
   "metadata": {},
   "source": [
    "## Cvičení\n",
    "\n",
    "### Spánek\n",
    "\n",
    "Do království královny Ady mezitím přišel další obchodník, který tentokrát nabízí přípravek, který zvyšuje kvalit spánku. Ada otestovala přípravek podobným postupem jako dříve, tj. skupině jednotlivců dala skutečný příprava a části placebo. Poté pomocí chytrých hodinek změřila délku jejich spánku.\n",
    "\n",
    "1. Definuj testové hypotézy.\n",
    "1. Proveď test hypotézy a vyhodnoť výsledky.\n",
    "\n",
    "### Bonus: Porovnání škol\n",
    "\n",
    "Nyní se Ada rozhodla porovnat výsledek testů studentů dvou škol. Adu opět zajímají průměrné výsledky, tentokrát se ale v alternativní hypotéze nepřikláníme k tomu, že by jeden z výběrů měl větší hodnotu než druhý. Jde nám čistě o to, jestli je mezi školami rozdíl.\n",
    "\n",
    "1. Definuj testové hypotézy. Pozor na použití správného výrazu (slova) v alternativní hypotéze.\n",
    "1. Proveď test hypotézy a vyhodnoť výsledky."
   ]
  },
  {
   "cell_type": "markdown",
   "metadata": {},
   "source": [
    "### Kvantily\n",
    "\n",
    "Čast používaný pojem ve statistice je kvantil. Medián je číslo, pro které platí, že polovina hodnot v daném souboru je menší a polovina je větší. Podobné číslo bychom ale našli i pro jiná procenta. Uvažujme například tzv. dolní kvartil. Jedná se číslo, pro které platí, že 25 % hodnot v soubou je menších (a tím pádem 75 % je větších). Pro horní kvartil je to naopak, 75 % je menších a 25 % větších. Obecně takovým číslům říkáme **kvantil** (*quantile*).\n",
    "\n",
    "Na grafu vidíme:\n",
    "\n",
    "- Medián (čára uprostřed).\n",
    "- Kvartily (tvorí barevný obdelník, dolní hranice obdelníku je dolní kvartil a horní hranice obdélníku horní kvartil).\n",
    "- Poslední jsou čáry označené jako `whis` (od slova whisker - kočičí vousy). Ty zobrazují rozsah ještě větší části hodnot. Nastavme ho tak, aby označoval 90 % všech hodnot, tj. hodnoty mezi 5%ním a 95%ním kvantilem."
   ]
  },
  {
   "cell_type": "code",
   "execution_count": 10,
   "metadata": {},
   "outputs": [
    {
     "data": {
      "text/plain": [
       "<Axes: >"
      ]
     },
     "execution_count": 10,
     "metadata": {},
     "output_type": "execute_result"
    },
    {
     "data": {
      "image/png": "[encoded data removed]",
      "text/plain": [
       "<Figure size 640x480 with 1 Axes>"
      ]
     },
     "metadata": {},
     "output_type": "display_data"
    }
   ],
   "source": [
    "import matplotlib.pyplot as plt\n",
    "import seaborn as sns\n",
    "sns.boxplot(data)"
   ]
  },
  {
   "cell_type": "markdown",
   "metadata": {},
   "source": [
    "Histogram je graf, který se skládá ze sloupců. V případě bodů z testu vidíme na vodorovné ose získané body a výška sloupce udává, kolik studentů a studentek má body v daném intervalu."
   ]
  },
  {
   "cell_type": "code",
   "execution_count": 16,
   "metadata": {},
   "outputs": [
    {
     "data": {
      "text/plain": [
       "<Axes: ylabel='Count'>"
      ]
     },
     "execution_count": 16,
     "metadata": {},
     "output_type": "execute_result"
    },
    {
     "data": {
      "image/png": "[encoded data removed]",
      "text/plain": [
       "<Figure size 640x480 with 1 Axes>"
      ]
     },
     "metadata": {},
     "output_type": "display_data"
    }
   ],
   "source": [
    "sns.histplot(data=data)"
   ]
  },
  {
   "cell_type": "markdown",
   "metadata": {},
   "source": [
    "### Funkce hustoty\n",
    "\n",
    "Použijme nyní funkci `displot` a nastavme parametr `kde=True`. Nyní v grafu vidíme i čáku, která je označovaná jako odhad funkce hustoty (*density function*). Funkci hustoty můžeme použít podobě jako histogram, ale s tím rozdílem, že funkce hustoty nám \"prozradí\" procento hodnot, které se nachází v libovolném intervalu."
   ]
  },
  {
   "cell_type": "code",
   "execution_count": 17,
   "metadata": {},
   "outputs": [
    {
     "data": {
      "text/plain": [
       "<seaborn.axisgrid.FacetGrid at 0x128920bc0>"
      ]
     },
     "execution_count": 17,
     "metadata": {},
     "output_type": "execute_result"
    },
    {
     "data": {
      "image/png": "[encoded data removed]",
      "text/plain": [
       "<Figure size 615.875x500 with 1 Axes>"
      ]
     },
     "metadata": {},
     "output_type": "display_data"
    }
   ],
   "source": [
    "sns.displot(data=data, kde=True)"
   ]
  },
  {
   "cell_type": "markdown",
   "metadata": {},
   "source": [
    "Funkci hustoty můžeme sestrojit (odhadnout) z nějakých dat. Existují ale tzv. statistická rozdělení (*statistical distribution*), což jsou v podstatě vzorečky pro funkci hustoty. \n",
    "\n",
    "Většina funkcí hustoty má parametry, pomocí kterých můžeme měnit tvar nebo polohu funkce. Nejznámějším statistickým rozdělením je **normální (Gaussovo) rozdělení** (*normal distribution*). Normální rozdělení má spousta \"jevů\", které se vyskytují v přírodě, například délka, výška nebo hmotnost živé tkáně atd. Používá se také ve financích na oceňování některých cenných papírů. Normální rozdělení mají často i chyby měření při experimentech.\n",
    "\n",
    "![](https://upload.wikimedia.org/wikipedia/commons/7/74/Normal_Distribution_PDF.svg)\n",
    "\n",
    "Normální rozdělení má dva parametry - střední hodnotu a rozptyl. Střední hodnota určuje, kde se nachází vrchol distribuční funkce, a rozptyl určuje \"šířku\" distribuční funkce. Rozptyl tedy říká, jak daleko jsou hodnoty rozptýlené od střední hodnoty.\n",
    "\n",
    "*Poznámka*: Hustota normáního rozdělení má dvě důležité vlastnosti:\n",
    "\n",
    "- Je symetrická. To, jak je rozdělení symetrické, měříme pomocí ukazatele označovaného jako šikmost (*skewness*).\n",
    "- Normální rozdělení má relativně málo \"odlehlých pozorování\". Platí pravidlo \"6 sigma\". Pokud bychom vytvořili interval, kde minimum je střední hodnota rozdělení minus 3 směrodatné odchylky (*sigma*) a maximum je střední hodnota rozdělení plus 3 směrodatné odchylky, obsahuje tento interval přes 99 % hodnot. Toto měříme pomocí ukazatele označovaného jako špičatost (*kurtois*).\n",
    "\n",
    "Kromě normálního existuje řada dalších statistických rozdělení (např. exponenciální, rovnoměrné atd.). Existuje i skupina rozdělení, která se používá jen pro celá čísla."
   ]
  },
  {
   "cell_type": "markdown",
   "metadata": {},
   "source": [
    "### Testy na normální rozdělení\n",
    "\n",
    "Teoreticky je možné, že nějaká data, se kterými pracujeme, mají normální rozdělení. To se může často hodit. Některé statistické metody totiž mají **předpoklady**, které by měly být splněny, než je použijeme. Pokud nejsou předpoklady splněné, je vhodné použít alternativu. Například některé statistické testy hypotéz jsou označovány jako parametrické (*parametric*) a jiné jako neparametrické (*nonparametric*). Parametrické testy většinou předpokládají, že data mají normální rozdělení, neparametrické testy to nevyžadují.\n",
    "\n",
    "Statistické testy jsou různě citlivé na odchylky od normality. Napříkald t-test je poměrně *robustní* a funguje dobře i pro data, která nemají normální rozdělení, pokud máme *dostatečné množství* dat (tj. minimálně vyšší desítky). Jiné testy jsou bohužel citlivější a v případě jejich využití bychom mohli dojít k nesprávnému závěru ohledně platnosti nulové hypotézy.\n",
    "\n",
    "Pokud nevíme, zda jsou předpoklady splněné, můžeme je otestovat. Testování předpokladů probíhá stejně, jako v případě samotného testu zkoumaného problému. Začneme tedy formulací hypotéz. V případě, že testujeme, zda mají data normální rozdělení (často se říká \"normalita data\"), formulujeme hypotézy takto:\n",
    "\n",
    "- H0: Data mají normální rozdělení.\n",
    "- H1: Data nemají normální rozdělení.\n",
    "\n",
    "K otestování můžeme využít řadu testů. Součásti `scipy` je několik testů. Například funcke `normaltest()` nebo `shapiro()`.\n",
    "\n",
    "<div>\n",
    "<img src=\"statistika-1-assets/gpt_04.png\" />\n",
    "</div>"
   ]
  },
  {
   "cell_type": "code",
   "execution_count": 18,
   "metadata": {},
   "outputs": [
    {
     "name": "stdout",
     "output_type": "stream",
     "text": [
      "0.8478800044350965\n",
      "0.3621112957561748\n"
     ]
    }
   ],
   "source": [
    "stat_pripravek, p_pripravek = stats.shapiro(data['Pripravek'])\n",
    "print(p_pripravek)\n",
    "stat_placebo, p_placebo = stats.shapiro(data['Placebo'])\n",
    "print(p_placebo)"
   ]
  },
  {
   "cell_type": "markdown",
   "metadata": {},
   "source": [
    "Ani v jednom případě není p-hodnota méně než 0.05, hypotézu normality jsme tedy nezamítli.\n",
    "\n",
    "V realitě často ale narazíme na případ, kde předpoklad normality nebude splněný. Co v takovém případě máme dělat? Řešení je překvapivě jednoduché: stačí zvolit jiný test. Testům, které nevyžadují normalitu, se obecně říká neparametrické (*non parametric tests*). Pokud chceme porovnat dva průměry, můžeme třeba použít Mann-Whitney test.\n",
    "\n",
    "<div>\n",
    "<img src=\"statistika-1-assets/gpt_05.png\" />\n",
    "</div>"
   ]
  },
  {
   "cell_type": "code",
   "execution_count": 19,
   "metadata": {},
   "outputs": [
    {
     "name": "stdout",
     "output_type": "stream",
     "text": [
      "0.008969306435162338\n"
     ]
    }
   ],
   "source": [
    "statistic, p_value = stats.mannwhitneyu(data['Pripravek'], data['Placebo'], alternative='greater')\n",
    "print(p_value)"
   ]
  },
  {
   "cell_type": "markdown",
   "metadata": {},
   "source": [
    "I Mann-Whitney test potvrdil královně Adě účinnost přípravku.\n",
    "\n",
    "A to je konec našeho příběhu...\n",
    "\n",
    "<div>\n",
    "<img src=\"statistika-1-assets/ada_10.webp\" width=\"500\" />\n",
    "</div>"
   ]
  },
  {
   "cell_type": "markdown",
   "metadata": {},
   "source": [
    "## Odkazy a zdroje\n",
    "\n",
    "- [Python pro datovou vědu](https://github.com/pesikj/PythonProDataScience)"
   ]
  },
  {
   "cell_type": "markdown",
   "metadata": {},
   "source": [
    "## Cvičení\n",
    "\n",
    "### Hodnocení hotelů\n",
    "\n",
    "Stáhni si soubor [global_hotel_reviews.csv](global_hotel_reviews.csv). Naším úkolem je porovnat recenze ve Francii a Švýcarsku. Číselné hodnocení hotelů je ve sloupci `Rating` a obsahuje pouze hodnoty 2, 4, 6, 8 a 10. Země, kde se hotel nachází, je ve sloupci `Country`.\n",
    "\n",
    "1. Definuj testové hypotézy.\n",
    "1. Proveď test hypotézy a vyhodnoť výsledky.\n",
    "\n",
    "### Platy akademiků\n",
    "\n",
    "Stáhli si soubor [salaries-2022.csv](salaries-2022.csv), který obsahuje data o platech akademiků na univerzitě v belgickém Waterloo. Tvým úkolem je ověřit tvrzení, že s kariérním postupem vzroste akademickým pracovníkům a pracovnicím jejich průměrný plat. Konkrétně nám půjde o dvě pozice (sloupec `Position title`) - `Professor` a `Associate Professor` (obdoba české pozice docent(ka)). Protože profesor je vyšší pozice než docent, předpokládáme, že profesoři a profesorky by měi mít vyšší platy než docenti a docentky.\n",
    "\n",
    "Zobraz si data, tentokrát s využitím histogramu. Tipni si, jestli data budou mít normální rozdělení. Především se zamysli nad tím, jestli jsou data symetrická. Poté ověř normalitu dat s využitím testu normality.\n",
    "\n",
    "Na základě testu normality vyber vhodný ten pro ověření hypotézy o střední hodnotě. Formuluj nulovou a alternativní hypotézu, přičemž v alternativní hypotéze uvažuj jednostrannou variantu, že průměrný plat na pozici Professor je vyšší než na pozici Associate Professor. Do funkce pro vyhodnocení testu vlož parametr `alternative`. Nakonec na základě p-hodnoty rozhodni o zamítnutí nulové hypotézy."
   ]
  }
 ],
 "metadata": {
  "kernelspec": {
   "display_name": "env",
   "language": "python",
   "name": "python3"
  },
  "language_info": {
   "codemirror_mode": {
    "name": "ipython",
    "version": 3
   },
   "file_extension": ".py",
   "mimetype": "text/x-python",
   "name": "python",
   "nbconvert_exporter": "python",
   "pygments_lexer": "ipython3",
   "version": "3.12.1"
  }
 },
 "nbformat": 4,
 "nbformat_minor": 2
}
